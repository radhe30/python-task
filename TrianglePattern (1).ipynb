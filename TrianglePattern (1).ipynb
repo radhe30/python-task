{
  "nbformat": 4,
  "nbformat_minor": 0,
  "metadata": {
    "colab": {
      "provenance": []
    },
    "kernelspec": {
      "name": "python3",
      "display_name": "Python 3"
    },
    "language_info": {
      "name": "python"
    }
  },
  "cells": [
    {
      "cell_type": "markdown",
      "source": [
        "### **Lower Triangular Pattern**"
      ],
      "metadata": {
        "id": "rRvNusZIopXg"
      }
    },
    {
      "cell_type": "code",
      "execution_count": 7,
      "metadata": {
        "colab": {
          "base_uri": "https://localhost:8080/"
        },
        "id": "qCDtj1dzoZN-",
        "outputId": "7f99bf05-6cb6-478f-9014-d24aca64db12"
      },
      "outputs": [
        {
          "output_type": "stream",
          "name": "stdout",
          "text": [
            "* \n",
            "* * \n",
            "* * * \n",
            "* * * * \n",
            "* * * * * \n"
          ]
        }
      ],
      "source": [
        "n = 5\n",
        "\n",
        "for i in range(1, n + 1):\n",
        "    print(\"* \" * i)\n"
      ]
    },
    {
      "cell_type": "markdown",
      "source": [
        "### **Upper Triangular Pattern**"
      ],
      "metadata": {
        "id": "2PauLD5go3_Q"
      }
    },
    {
      "cell_type": "code",
      "source": [
        "n = 5\n",
        "\n",
        "for i in range(n, 0, -1):\n",
        "    print(\"* \" * i)\n"
      ],
      "metadata": {
        "colab": {
          "base_uri": "https://localhost:8080/"
        },
        "id": "GTmmfZOOo-yk",
        "outputId": "132561a9-5a90-435f-9fe6-49283660f96d"
      },
      "execution_count": 2,
      "outputs": [
        {
          "output_type": "stream",
          "name": "stdout",
          "text": [
            "* * * * * \n",
            "* * * * \n",
            "* * * \n",
            "* * \n",
            "* \n"
          ]
        }
      ]
    },
    {
      "cell_type": "markdown",
      "source": [
        "### **Pyramid Pattern**"
      ],
      "metadata": {
        "id": "1TbmauPWpHWd"
      }
    },
    {
      "cell_type": "code",
      "source": [
        "n = 5\n",
        "\n",
        "for i in range(n):\n",
        "    print(\" \" * (n - i - 1) + \"* \" * (i + 1))\n"
      ],
      "metadata": {
        "colab": {
          "base_uri": "https://localhost:8080/"
        },
        "id": "kDd3yW2NpLrt",
        "outputId": "d3fbf574-ed37-452c-a299-82b86891d075"
      },
      "execution_count": 3,
      "outputs": [
        {
          "output_type": "stream",
          "name": "stdout",
          "text": [
            "    * \n",
            "   * * \n",
            "  * * * \n",
            " * * * * \n",
            "* * * * * \n"
          ]
        }
      ]
    }
  ]
}